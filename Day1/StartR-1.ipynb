{
 "cells": [
  {
   "cell_type": "markdown",
   "metadata": {},
   "source": [
    "## R 과 R Studio\n",
    "- R 버전변경시는 반드시 제거하고, 프로그램 설치된 폴더에서 잔여폴더 제거하고 R 다른버전으로 설치\n",
    "- R설치후에 R스튜디오 설치해야함.\n",
    "- R은 인터페이스가 별로, 메모리 사용량이 R스튜디오보다 작다."
   ]
  },
  {
   "cell_type": "markdown",
   "metadata": {},
   "source": [
    "### editor 설정 \n",
    "- 편집 GUL설정 \n",
    " - Font - 굴림체"
   ]
  },
  {
   "cell_type": "markdown",
   "metadata": {},
   "source": []
  }
 ],
 "metadata": {
  "interpreter": {
   "hash": "e5bc2cf9d9a3d85fb4b9cf5c2acdd222f933ac2e5b2df75a3f82eb3e684a5541"
  },
  "kernelspec": {
   "display_name": "Python 3.10.1 64-bit",
   "language": "python",
   "name": "python3"
  },
  "language_info": {
   "name": "python",
   "version": "3.10.1"
  },
  "orig_nbformat": 4
 },
 "nbformat": 4,
 "nbformat_minor": 2
}
